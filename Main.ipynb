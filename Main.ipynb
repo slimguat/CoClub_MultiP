{
 "cells": [
  {
   "cell_type": "code",
   "execution_count": null,
   "metadata": {},
   "outputs": [],
   "source": [
    "%load_ext autoreload\n",
    "%autoreload 2\n",
    "# %matplotlib widget"
   ]
  },
  {
   "cell_type": "markdown",
   "metadata": {},
   "source": [
    "Requirements\n",
    "  1. numpy\n",
    "  2. multiprocessing\n"
   ]
  },
  {
   "cell_type": "markdown",
   "metadata": {},
   "source": [
    "## <span style=\"color:#44FF44;\">Using multiprocessing.pool</span>\n",
    "1. pool.map"
   ]
  },
  {
   "cell_type": "code",
   "execution_count": 27,
   "metadata": {},
   "outputs": [
    {
     "name": "stdout",
     "output_type": "stream",
     "text": [
      "['00_tuto.py', '1'] True\n",
      "With multiprocessing\n",
      "The square of 1 is 1. PID: 35168\n",
      "The square of 2 is 4. PID: 26392\n",
      "The square of 3 is 9. PID: 29128\n",
      "The square of 4 is 16. PID: 6944\n",
      "The square of 5 is 25. PID: 35232\n",
      "The square of 6 is 36. PID: 27876\n",
      "The square of 7 is 49. PID: 12296\n",
      "The square of 8 is 64. PID: 35608\n",
      "The square of 9 is 81. PID: 32352\n",
      "The square of 10 is 100. PID: 37940\n",
      "Total execution time:  1.377102\n",
      "['00_tuto.py', '0'] False\n",
      "No multiprocessing\n",
      "The square of 1 is 1. PID: 44412\n",
      "The square of 2 is 4. PID: 44412\n",
      "The square of 3 is 9. PID: 44412\n",
      "The square of 4 is 16. PID: 44412\n",
      "The square of 5 is 25. PID: 44412\n",
      "The square of 6 is 36. PID: 44412\n",
      "The square of 7 is 49. PID: 44412\n",
      "The square of 8 is 64. PID: 44412\n",
      "The square of 9 is 81. PID: 44412\n",
      "The square of 10 is 100. PID: 44412\n",
      "Total execution time:  10.004394\n"
     ]
    }
   ],
   "source": [
    "! python 00_tuto.py 1\n",
    "! python 00_tuto.py 0\n"
   ]
  },
  {
   "cell_type": "markdown",
   "metadata": {},
   "source": [
    "2. Job numbers and reducing execution time"
   ]
  },
  {
   "cell_type": "code",
   "execution_count": 28,
   "metadata": {},
   "outputs": [
    {
     "name": "stdout",
     "output_type": "stream",
     "text": [
      "Total execution time:  2.28\n",
      "Total execution time:  2.33\n",
      "Total execution time:  2.31\n",
      "Total execution time:  1.49\n",
      "Total execution time:  1.58\n"
     ]
    }
   ],
   "source": [
    "! python 01_tuto.py 10\n",
    "! python 01_tuto.py 14\n",
    "! python 01_tuto.py 16\n",
    "! python 01_tuto.py 20\n",
    "! python 01_tuto.py 25"
   ]
  },
  {
   "cell_type": "markdown",
   "metadata": {},
   "source": [
    "3. Using `pool.starmap`\n",
    "   \n",
    "For more than 1 argument"
   ]
  },
  {
   "cell_type": "code",
   "execution_count": 29,
   "metadata": {},
   "outputs": [
    {
     "name": "stdout",
     "output_type": "stream",
     "text": [
      "Argument list number of Jobs X length of argument list\n",
      "[[9 1]\n",
      " [2 4]\n",
      " [8 0]]\n",
      "08x00=00| PID: 45952\n",
      "02x04=08| PID: 2780009x01=09| PID: 45788\n",
      "\n",
      "Total execution time:  1.28\n"
     ]
    }
   ],
   "source": [
    "! python 02_tuto.py 10"
   ]
  },
  {
   "cell_type": "markdown",
   "metadata": {},
   "source": [
    "4. Using `pool.apply_async`\n",
    "\n",
    "More control over the multiprocessing tasks <br>\n",
    "Assigning multiple functions in a session <br>\n",
    "Releassing the parent process for other tasksto do <br>"
   ]
  },
  {
   "cell_type": "code",
   "execution_count": 30,
   "metadata": {},
   "outputs": [
    {
     "name": "stdout",
     "output_type": "stream",
     "text": [
      "Process starting time:  0.00\n",
      "PID 30336: 2 * 3 = 6\n",
      "PID 32532: 4 * 5 = 20\n",
      "PID 27088: 6 * 7 = 42\n",
      "PID 36508: 0 * 1 = 0\n",
      "Total execution time:  1.18\n",
      "Final results: [6, 20, 42, 0]\n"
     ]
    }
   ],
   "source": [
    "! python 03_tuto.py"
   ]
  },
  {
   "cell_type": "markdown",
   "metadata": {},
   "source": [
    "![Table of pool methods](poolTable.png)"
   ]
  },
  {
   "cell_type": "markdown",
   "metadata": {},
   "source": [
    "## <span style=\"color:#FFAA00;\">Using multiprocessing.Process</span>\n",
    "Let's leave this for children to play with and focus more on cool stuff<br>\n",
    "Also, multiprocessing.Process is friendly with notebooks but... \n"
   ]
  },
  {
   "cell_type": "code",
   "execution_count": 37,
   "metadata": {},
   "outputs": [
    {
     "name": "stdout",
     "output_type": "stream",
     "text": [
      "Main program continues...\n"
     ]
    }
   ],
   "source": [
    "import multiprocessing\n",
    "\n",
    "# Define a function to be executed by the process\n",
    "def worker_function(name):\n",
    "    print(f\"Hello, {name}!\")\n",
    "\n",
    "if __name__=='__main__':\n",
    "# if True:\n",
    "  # Create a multiprocessing.Process instance\n",
    "  process1 = multiprocessing.Process(target=worker_function, args=(\"Charlie the Harley\"  ,))\n",
    "  process2 = multiprocessing.Process(target=worker_function, args=(\"Sophie the trophy\"   ,))\n",
    "  process3 = multiprocessing.Process(target=worker_function, args=(\"Albert the shepherd\" ,))\n",
    "  \n",
    "  # Start the process\n",
    "  process1.start()\n",
    "  process2.start()\n",
    "  process3.start()\n",
    "\n",
    "  # Wait for the process to finish (optional)\n",
    "  print(\"Main program continues...\")\n",
    "\n",
    "  process1.join()\n",
    "  process2.join()\n",
    "  process3.join()"
   ]
  },
  {
   "cell_type": "code",
   "execution_count": 34,
   "metadata": {},
   "outputs": [
    {
     "name": "stdout",
     "output_type": "stream",
     "text": [
      "Hello, Charlie the Harley!\n",
      "Hello, Sophie the trophy!\n",
      "Hello, Albert the shepherd!\n",
      "Main program continues...\n"
     ]
    }
   ],
   "source": [
    "! python 04_tuto.py"
   ]
  },
  {
   "cell_type": "markdown",
   "metadata": {},
   "source": [
    "In the notebook: \n",
    "1. The kernel will kill itself (suicide) if any cell ended running and a process is alive. join all processes before ending a cell\n",
    "2. If `Process` is called directly inside the notebook, the children can't reach the casting interface (can't `print()`) but it's possible if the Process is inside a module/script that have been imported by the notebook.\n",
    "3. In any python script, `Process` and `Pool` should be called in main scope (`if __name__=='__main__':...`) because the script is called inside all processes.\n",
    "4. We can use args or kwargs arguments in `Process` to pass arguments or keyworded arguments.\n",
    "5. There is no number of processes to specify in this case so it should be manually done "
   ]
  },
  {
   "cell_type": "code",
   "execution_count": 38,
   "metadata": {},
   "outputs": [
    {
     "name": "stdout",
     "output_type": "stream",
     "text": [
      "PID  39136\n",
      "PID  5052\n",
      "PID  5688\n",
      "PID  44832\n",
      "PID  28480\n",
      "PID  28772\n",
      "PID  18868\n",
      "PID  14184\n",
      "PID  39988\n",
      "PID  7276\n",
      "PID  39372\n",
      "PID  31196\n",
      "PID  30752\n",
      "PID  10224\n",
      "PID  14124\n",
      "PID  5532\n",
      "PID  24444\n",
      "PID  21844\n",
      "PID  26292\n",
      "PID  20284\n",
      "Total time 2.476343 seconds\n"
     ]
    }
   ],
   "source": [
    "! python 05_tuto.py"
   ]
  },
  {
   "cell_type": "markdown",
   "metadata": {},
   "source": [
    "`for ind,p in enumerate(processes): `<br>  \n",
    "&emsp;`if not p.is_alive():`<br>\n",
    "&emsp;&emsp;`p.close()`<br>\n",
    "&emsp;&emsp;`processes.pop(p)`<br>\n",
    "\n",
    "It's to close all the processes that have ended their jobs. This is important if you have a lot of processes >100s. There is some files created and opened and all systems have a limited amount of memory for opening files simultaneously."
   ]
  },
  {
   "cell_type": "markdown",
   "metadata": {},
   "source": [
    "## <span style=\"color:#FF5500;\">Sharing  memory</span>"
   ]
  },
  {
   "cell_type": "code",
   "execution_count": 40,
   "metadata": {},
   "outputs": [],
   "source": [
    "from multiprocessing import shared_memory\n",
    "import numpy as np\n",
    "# Creating a parent matrix\n",
    "matrix = np.random.randint(0,10,size=(3,))\n",
    "\n",
    "shm_a = shared_memory.SharedMemory(create=True, size=matrix.nbytes)\n",
    "shm_matrix= np.ndarray(shape=matrix.shape,dtype=matrix.dtype, buffer=shm_a.buf)\n",
    "shm_matrix[:] =matrix"
   ]
  },
  {
   "cell_type": "markdown",
   "metadata": {},
   "source": [
    "It's important to fill the shared matrix using slices (`[:]`) else equalizing two matrices directly will break the link and delete the buffer and build a new variable"
   ]
  },
  {
   "cell_type": "code",
   "execution_count": 41,
   "metadata": {},
   "outputs": [
    {
     "name": "stdout",
     "output_type": "stream",
     "text": [
      "[8 1 7] [8 1 7]\n"
     ]
    }
   ],
   "source": [
    "shm_matrix2 = np.ndarray(shape=matrix.shape,dtype=matrix.dtype, buffer=shm_a.buf)\n",
    "shm_matrix3 = np.ndarray(shape=matrix.shape,dtype=matrix.dtype, buffer=shm_a.buf)\n",
    "print(shm_matrix2,shm_matrix3)"
   ]
  },
  {
   "cell_type": "code",
   "execution_count": 42,
   "metadata": {},
   "outputs": [
    {
     "name": "stdout",
     "output_type": "stream",
     "text": [
      "[100   1   7] [100   1   7]\n"
     ]
    }
   ],
   "source": [
    "shm_matrix3[0] = 100\n",
    "print(shm_matrix2,shm_matrix3)"
   ]
  },
  {
   "cell_type": "code",
   "execution_count": 45,
   "metadata": {},
   "outputs": [
    {
     "name": "stdout",
     "output_type": "stream",
     "text": [
      "[5 1 4 2 7 7 5 9 8 5]\n",
      "[5 1 4 4 7 7 5 9 8 5]\n",
      "[5 2 4 4 7 7 5 9 8 5]\n",
      "[5 9 4 4 7 7 5 9 8 5]\n",
      "[5 9 7 7 7 7 5 9 8 5]\n",
      "[5 9 7 7 7 7 0 9 8 9]\n",
      "[5 9 7 7 7 7 0 9 8 9]\n",
      "[5 9 7 7 7 7 0 9 8 9]\n",
      "[9 9 7 7 7 7 0 9 8 9]\n",
      "[9 9 7 7 7 7 0 9 7 9]\n",
      "[9 9 2 4 5 4 0 9 5 9]\n",
      "[9 9 2 4 5 4 0 9 5 9]\n",
      "[9 9 2 4 5 4 0 9 5 9]\n",
      "[9 9 9 4 1 4 0 9 3 9]\n",
      "[9 9 9 8 7 6 0 9 3 9][9 9 9 8 7 6 0 9 3 9]\n",
      "\n",
      "[9 9 9 8 7 6 0 9 3 9]\n",
      "[9 9 9 0 7 6 0 9 2 9]\n",
      "[9 9 9 0 7 6 0 9 2 9]\n",
      "[9 9 9 0 2 3 0 9 2 9]\n",
      "[9 9 9 0 8 3 0 9 8 9]\n",
      "[9 9 9 0 8 3 0 9 8 9]\n",
      "[9 9 9 0 8 6 0 9 8 9]\n",
      "[9 9 9 0 1 0 0 9 4 9]\n",
      "[9 9 9 0 0 0 0 9 8 9]\n",
      "[9 9 9 0 0 0 0 9 8 9]\n",
      "[9 9 9 0 0 0 0 9 8 9]\n",
      "[9 9 9 0 0 0 0 9 1 9]\n",
      "[9 9 9 0 0 0 0 9 9 9][9 9 9 0 0 0 0 9 9 9]\n",
      "[9 9 9 0 0 0 0 9 9 9]\n",
      "\n",
      "[0 6 9 0 0 0 0 8 8 0][0 6 9 0 0 0 0 8 8 0]\n",
      "\n",
      "[0 6 9 0 0 0 0 8 8 0]\n",
      "[0 2 9 0 0 0 0 0 1 0][0 2 9 0 0 0 0 0 1 0]\n",
      "\n",
      "[0 2 9 0 0 0 0 0 1 0]\n",
      "[0 5 9 0 0 0 0 0 1 0]\n",
      "[0 5 7 0 0 0 0 0 1 0]\n",
      "[0 5 7 0 0 0 0 0 1 0]\n",
      "[0 3 9 0 0 0 0 0 7 0]\n",
      "[0 3 9 0 0 0 0 0 7 0]\n",
      "[0 6 9 0 0 0 0 0 7 0]\n",
      "[0 6 0 0 0 0 0 0 7 0]\n",
      "[0 6 0 0 0 0 0 0 3 0]\n",
      "[0 0 0 0 0 0 0 0 8 0]\n",
      "[0 0 0 0 0 0 0 0 8 0]\n",
      "[0 0 0 0 0 0 0 0 0 0]\n",
      "[0 0 0 0 0 0 0 0 0 0]\n",
      "[0 0 0 0 0 0 0 0 0 0]\n",
      "[0 0 0 0 0 0 0 0 0 0]\n"
     ]
    }
   ],
   "source": [
    "!python 07_tuto.py 1 10"
   ]
  },
  {
   "cell_type": "markdown",
   "metadata": {},
   "source": [
    "### The small cherry on the top"
   ]
  },
  {
   "cell_type": "code",
   "execution_count": null,
   "metadata": {},
   "outputs": [],
   "source": [
    "from multiprocessing.shared_memory import SharedMemory\n",
    "from time import sleep\n",
    "shape =(3,) \n",
    "dtype = int \n",
    "shmm_name = \"wnsm_1201d560\"\n",
    "\n",
    "shmm = SharedMemory(create=False,name=shmm_name)\n",
    "data = np.ndarray(shape,dtype,shmm.buf)\n",
    "while True:\n",
    "  print(data)\n",
    "  sleep(0.5)\n"
   ]
  },
  {
   "cell_type": "markdown",
   "metadata": {},
   "source": [
    "<!-- Concurent.futures -->\n"
   ]
  }
 ],
 "metadata": {
  "kernelspec": {
   "display_name": "Python 3",
   "language": "python",
   "name": "python3"
  },
  "language_info": {
   "codemirror_mode": {
    "name": "ipython",
    "version": 3
   },
   "file_extension": ".py",
   "mimetype": "text/x-python",
   "name": "python",
   "nbconvert_exporter": "python",
   "pygments_lexer": "ipython3",
   "version": "3.11.1"
  },
  "orig_nbformat": 4
 },
 "nbformat": 4,
 "nbformat_minor": 2
}
